{
 "cells": [
  {
   "cell_type": "code",
   "execution_count": 45,
   "metadata": {},
   "outputs": [
    {
     "name": "stdout",
     "output_type": "stream",
     "text": [
      "r8_OHs82KIpCmF2WBFESlJnl0cpeT5BpMl1nLALt\n"
     ]
    }
   ],
   "source": [
    "import replicate\n",
    "import os\n",
    "import cv2\n",
    "api = replicate.Client(api_token=os.environ[\"REPLICATE_API_TOKEN\"])"
   ]
  },
  {
   "cell_type": "code",
   "execution_count": 55,
   "metadata": {},
   "outputs": [],
   "source": [
    "image1 = cv2.imread(\"data/input/sydney.png\", cv2.IMREAD_GRAYSCALE)\n",
    "image2 = cv2.imread(\"data/input/sydney.jpg\", cv2.IMREAD_GRAYSCALE)\n",
    "# dress = cv2.imread(\"data/input/dress.jpg\", cv2.IMREAD_GRAYSCALE)\n",
    "\n",
    "\n",
    "# resize1 = cv2.resize(image1, (0, 0), fx = 0.1, fy = 0.1)\n",
    "resize2 = cv2.resize(image2, (0, 0), fx = 0.1, fy = 0.1)\n",
    "# smalldress = cv2.resize(dress, (0, 0), fx = 0.1, fy = 0.1)"
   ]
  },
  {
   "cell_type": "code",
   "execution_count": 56,
   "metadata": {},
   "outputs": [],
   "source": [
    "# image = cv2.imread(\"data/input/sydney.png\", cv2.IMREAD_COLOR)\n",
    "PREPRCOESSED_IMAGE_PATH = \"data/out/\"\n",
    "# cv2.imwrite(PREPRCOESSED_IMAGE_PATH + \"1.png\", resize1)\n",
    "cv2.imwrite(PREPRCOESSED_IMAGE_PATH + \"2.png\", resize2)\n",
    "# cv2.imwrite(PREPRCOESSED_IMAGE_PATH + \"dress_small.png\", smalldress)\n",
    "# gray1 = open(PREPRCOESSED_IMAGE_PATH + \"1.png\", \"rb\")\n",
    "gray2 = open(PREPRCOESSED_IMAGE_PATH + \"2.png\", \"rb\")\n",
    "# gray_dress = open(PREPRCOESSED_IMAGE_PATH + \"dress_small.png\", \"rb\")"
   ]
  },
  {
   "cell_type": "code",
   "execution_count": 60,
   "metadata": {},
   "outputs": [],
   "source": [
    "\n",
    "output = api.run(\n",
    "    \"tencentarc/photomaker-style:467d062309da518648ba89d226490e02b8ed09b5abc15026e54e31c5a8cd0769\",\n",
    "    input={\n",
    "        \"prompt\": \"A adult img wearing a hat and blue drecoatss, CGI, realistic, full-body, screenshot from party\",\n",
    "        \"num_steps\": 25,\n",
    "        \"style_name\": \"Photographic (Default)\",\n",
    "        \"input_image\": gray2,\n",
    "        \"num_outputs\": 1,\n",
    "        # \"input_image\": gray1,\n",
    "        # \"input_image3\": gray_dress,\n",
    "        \"guidance_scale\": 3,\n",
    "        \"negative_prompt\": \"nsfw, worst quality, greyscale, bad anatomy, bad hands, error, text\",\n",
    "        \"style_strength_ratio\": 30\n",
    "    }\n",
    ")"
   ]
  },
  {
   "cell_type": "code",
   "execution_count": 61,
   "metadata": {},
   "outputs": [
    {
     "name": "stdout",
     "output_type": "stream",
     "text": [
      "['https://replicate.delivery/pbxt/SYbMvOMfDJ1UCi7R6VXzrcjN1La6pTIjwTuIvzXYIm1sxjRJA/image_0.png']\n"
     ]
    }
   ],
   "source": [
    "print(output)"
   ]
  }
 ],
 "metadata": {
  "kernelspec": {
   "display_name": "venv",
   "language": "python",
   "name": "python3"
  },
  "language_info": {
   "codemirror_mode": {
    "name": "ipython",
    "version": 3
   },
   "file_extension": ".py",
   "mimetype": "text/x-python",
   "name": "python",
   "nbconvert_exporter": "python",
   "pygments_lexer": "ipython3",
   "version": "3.10.7"
  }
 },
 "nbformat": 4,
 "nbformat_minor": 2
}
