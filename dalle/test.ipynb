{
 "cells": [
  {
   "cell_type": "code",
   "execution_count": 83,
   "metadata": {},
   "outputs": [],
   "source": [
    "import replicate\n",
    "import os\n",
    "import cv2\n",
    "api = replicate.Client(api_token=\"r8_B5jSXTTvAatVV49eFMWSV8SZ24thq460VQckx\")"
   ]
  },
  {
   "cell_type": "code",
   "execution_count": 111,
   "metadata": {},
   "outputs": [],
   "source": [
    "image1 = cv2.imread(\"data/input/Moomin.webp\", cv2.IMREAD_GRAYSCALE)\n",
    "# image2 = cv2.imread(\"data/input/keanu.jpg\", cv2.IMREAD_GRAYSCALE)\n",
    "# dress = cv2.imread(\"data/input/dress.jpg\", cv2.IMREAD_GRAYSCALE)\n",
    "\n",
    "PREPRCOESSED_IMAGE_PATH = \"data/out/temp.png\"\n",
    "resize1 = cv2.resize(image1, (0, 0), fx = 0.1, fy = 0.1)\n",
    "# resize2 = cv2.resize(image2, (0, 0), fx = 0.1, fy = 0.1)\n",
    "# smalldress = cv2.resize(dress, (0, 0), fx = 0.1, fy = 0.1)\n",
    "cv2.imwrite(PREPRCOESSED_IMAGE_PATH, resize1)\n",
    "gray = open(PREPRCOESSED_IMAGE_PATH, \"rb\")"
   ]
  },
  {
   "cell_type": "code",
   "execution_count": 116,
   "metadata": {},
   "outputs": [],
   "source": [
    "\n",
    "output = api.run(\n",
    "    \"tencentarc/photomaker-style:467d062309da518648ba89d226490e02b8ed09b5abc15026e54e31c5a8cd0769\",\n",
    "    input={\n",
    "        \"prompt\": \"A Moomin img wearing keep the same face dont change body size size orange colour dress, cgi, full-body, screenshot from a beach background calm\",\n",
    "        \"num_steps\": 30,\n",
    "        \"style_name\": \"Photographic (Default)\",\n",
    "        \"input_image\": gray,\n",
    "        \"num_outputs\":1,\n",
    "        # \"input_image1\": gray1,\n",
    "        # \"input_image3\": gray_dress,\n",
    "        \"guidance_scale\": 5,\n",
    "        \"negative_prompt\": \"nsfw, worst quality, greyscale, bad anatomy, bad hands, error, text\",\n",
    "        \"style_strength_ratio\": 20\n",
    "    }\n",
    ")"
   ]
  },
  {
   "cell_type": "code",
   "execution_count": 117,
   "metadata": {},
   "outputs": [
    {
     "name": "stdout",
     "output_type": "stream",
     "text": [
      "['https://replicate.delivery/pbxt/cQoKasGE8YqdKBKm2MVZDeXqUFfq9751V5ZBIvcknBhbFMjSA/image_0.png']\n"
     ]
    }
   ],
   "source": [
    "print(output)"
   ]
  }
 ],
 "metadata": {
  "kernelspec": {
   "display_name": "venv",
   "language": "python",
   "name": "python3"
  },
  "language_info": {
   "codemirror_mode": {
    "name": "ipython",
    "version": 3
   },
   "file_extension": ".py",
   "mimetype": "text/x-python",
   "name": "python",
   "nbconvert_exporter": "python",
   "pygments_lexer": "ipython3",
   "version": "3.10.7"
  }
 },
 "nbformat": 4,
 "nbformat_minor": 2
}
